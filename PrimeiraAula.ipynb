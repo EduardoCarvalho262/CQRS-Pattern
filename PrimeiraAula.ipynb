{
  "nbformat": 4,
  "nbformat_minor": 0,
  "metadata": {
    "colab": {
      "name": "PrimeiraAula.ipynb",
      "provenance": [],
      "authorship_tag": "ABX9TyMI35BoGzNGtqvca518DSdn",
      "include_colab_link": true
    },
    "kernelspec": {
      "name": "python3",
      "display_name": "Python 3"
    },
    "language_info": {
      "name": "python"
    }
  },
  "cells": [
    {
      "cell_type": "markdown",
      "metadata": {
        "id": "view-in-github",
        "colab_type": "text"
      },
      "source": [
        "<a href=\"https://colab.research.google.com/github/EduardoCarvalho262/CQRS-Pattern/blob/master/PrimeiraAula.ipynb\" target=\"_parent\"><img src=\"https://colab.research.google.com/assets/colab-badge.svg\" alt=\"Open In Colab\"/></a>"
      ]
    },
    {
      "cell_type": "markdown",
      "source": [
        "Fazendo Hello world"
      ],
      "metadata": {
        "id": "rOvpyWp7dDkF"
      }
    },
    {
      "cell_type": "code",
      "execution_count": null,
      "metadata": {
        "id": "a_-RHbUxdCOJ"
      },
      "outputs": [],
      "source": [
        "print(\"Hello, World!!\")"
      ]
    },
    {
      "cell_type": "markdown",
      "source": [
        "# Declarando Váriaveis"
      ],
      "metadata": {
        "id": "uuSe-NridZKb"
      }
    },
    {
      "cell_type": "code",
      "source": [
        "nome = \"Eduardo\"\n",
        "idade = \"19\"\n",
        "altura = 1.84\n",
        "\n",
        "frutas = [\"Maçã\", \"Melão\", \"Melancia\"] #Lista"
      ],
      "metadata": {
        "id": "zzfndJ03df39"
      },
      "execution_count": null,
      "outputs": []
    },
    {
      "cell_type": "code",
      "source": [
        "'''\n",
        "print(nome)\n",
        "print(idade)\n",
        "print(altura)\n",
        "'''\n",
        "print(frutas[0])"
      ],
      "metadata": {
        "colab": {
          "base_uri": "https://localhost:8080/"
        },
        "id": "cWy-VCbudngf",
        "outputId": "7f3969a8-ae74-4472-d320-3f1021419194"
      },
      "execution_count": null,
      "outputs": [
        {
          "output_type": "stream",
          "name": "stdout",
          "text": [
            "Maçã\n"
          ]
        }
      ]
    },
    {
      "cell_type": "code",
      "source": [
        "maior_de_idade = 18\n",
        "\n",
        "if maior_de_idade >= 18:\n",
        "  print(\"É maior de idade\")\n",
        "else:\n",
        "  print(\"é menor de idade\")"
      ],
      "metadata": {
        "colab": {
          "base_uri": "https://localhost:8080/"
        },
        "id": "DKxsZ88NeTBK",
        "outputId": "7826ac97-67b7-4b69-c9da-ebab9b41a6f2"
      },
      "execution_count": null,
      "outputs": [
        {
          "output_type": "stream",
          "name": "stdout",
          "text": [
            "É maior de idade\n"
          ]
        }
      ]
    },
    {
      "cell_type": "markdown",
      "source": [
        "#Laços de Repetição While"
      ],
      "metadata": {
        "id": "HvKwrbIsgGOi"
      }
    },
    {
      "cell_type": "code",
      "source": [
        "i = 1\n",
        "\n",
        "while i < 10:\n",
        "  print(i)\n",
        "  if i == 5:\n",
        "    break\n",
        "  i += 1"
      ],
      "metadata": {
        "id": "GWNXSwl3eJrk"
      },
      "execution_count": null,
      "outputs": []
    },
    {
      "cell_type": "markdown",
      "source": [
        "Laço de repetição for"
      ],
      "metadata": {
        "id": "rxQKw256iOGH"
      }
    },
    {
      "cell_type": "code",
      "source": [
        "frutas = [\"Maçã\", \"Melão\", \"Melancia\"]\n",
        "\n",
        "for item in frutas:\n",
        "  print(item)"
      ],
      "metadata": {
        "id": "U-c7qExYiIIo"
      },
      "execution_count": null,
      "outputs": []
    },
    {
      "cell_type": "code",
      "source": [
        "\n",
        "for item in \"frutas\":\n",
        "  print(item)"
      ],
      "metadata": {
        "id": "0X43qorSizYU"
      },
      "execution_count": null,
      "outputs": []
    },
    {
      "cell_type": "code",
      "source": [
        "for x in range(2, 10, 2):\n",
        "  print(x)"
      ],
      "metadata": {
        "colab": {
          "base_uri": "https://localhost:8080/"
        },
        "id": "Fd31LeUGjZ_L",
        "outputId": "96252ee6-c351-4ab7-8008-0f4af5a1724f"
      },
      "execution_count": null,
      "outputs": [
        {
          "output_type": "stream",
          "name": "stdout",
          "text": [
            "2\n",
            "4\n",
            "6\n",
            "8\n"
          ]
        }
      ]
    },
    {
      "cell_type": "markdown",
      "source": [
        "#Funções em Python"
      ],
      "metadata": {
        "id": "2KKrL5b9kMu_"
      }
    },
    {
      "cell_type": "code",
      "source": [
        "def verifica_se_e_maior_de_idade(idade):\n",
        "  if idade >= maior_de_idade:\n",
        "    print(\"É maior de idade\")\n",
        "  else:\n",
        "    print(\"é menor de idade\")\n"
      ],
      "metadata": {
        "id": "vbRPT4BAkQeq"
      },
      "execution_count": null,
      "outputs": []
    },
    {
      "cell_type": "code",
      "source": [
        "verifica_se_e_maior_de_idade(18)"
      ],
      "metadata": {
        "colab": {
          "base_uri": "https://localhost:8080/"
        },
        "id": "Mrvw6zkqk8fD",
        "outputId": "9a82f661-56f0-42fc-c214-a58b09b7b3f5"
      },
      "execution_count": null,
      "outputs": [
        {
          "output_type": "stream",
          "name": "stdout",
          "text": [
            "É maior de idade\n"
          ]
        }
      ]
    },
    {
      "cell_type": "code",
      "source": [
        "def verifica_se_e_maior_de_idade_com_retorno(idade):\n",
        "  if idade >= maior_de_idade:\n",
        "    return \"É maior de idade\"\n",
        "  else:\n",
        "     return \"É menor de idade\""
      ],
      "metadata": {
        "id": "TJVybBZ-lumv"
      },
      "execution_count": null,
      "outputs": []
    },
    {
      "cell_type": "code",
      "source": [
        "mensagem = verifica_se_e_maior_de_idade_com_retorno(18)\n",
        "print(mensagem)"
      ],
      "metadata": {
        "colab": {
          "base_uri": "https://localhost:8080/"
        },
        "id": "k8a7kkqGl5Ed",
        "outputId": "a8759fd6-30aa-4002-9418-1f86ca342b82"
      },
      "execution_count": null,
      "outputs": [
        {
          "output_type": "stream",
          "name": "stdout",
          "text": [
            "É maior de idade\n"
          ]
        }
      ]
    },
    {
      "cell_type": "code",
      "source": [
        "def minha_funcao_calcula_salario():\n",
        "  pass"
      ],
      "metadata": {
        "id": "8bJYj5rWmFcf"
      },
      "execution_count": null,
      "outputs": []
    },
    {
      "cell_type": "markdown",
      "source": [
        "#Criação de objeto e classes"
      ],
      "metadata": {
        "id": "_AGeN-WEmnEn"
      }
    },
    {
      "cell_type": "code",
      "source": [
        "class Pessoa:\n",
        "  #construtor\n",
        "  def __init__(self, nome, idade):\n",
        "    self.nome = nome\n",
        "    self.idade = idade"
      ],
      "metadata": {
        "id": "AyVXDNKpmqsR"
      },
      "execution_count": null,
      "outputs": []
    },
    {
      "cell_type": "code",
      "source": [
        "asafe = Pessoa(\"Asafe\", 20)"
      ],
      "metadata": {
        "id": "tnM9EGCrnBhu"
      },
      "execution_count": null,
      "outputs": []
    },
    {
      "cell_type": "code",
      "source": [
        "print(asafe.nome)\n",
        "print(asafe.idade)"
      ],
      "metadata": {
        "colab": {
          "base_uri": "https://localhost:8080/"
        },
        "id": "BdzgDofZnNyG",
        "outputId": "08a6da2b-fa4d-41e9-e634-5bccfcc6793a"
      },
      "execution_count": null,
      "outputs": [
        {
          "output_type": "stream",
          "name": "stdout",
          "text": [
            "Asafe\n",
            "20\n"
          ]
        }
      ]
    }
  ]
}